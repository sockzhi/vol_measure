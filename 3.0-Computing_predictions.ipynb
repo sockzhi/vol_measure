{
 "cells": [
  {
   "cell_type": "markdown",
   "metadata": {},
   "source": [
    "# Computing the predictions\n",
    "\n",
    "In this notebook we compute predictions on unseen `test` data, by predicting filepaths contained in a [dataset split .txt file](#Predicting-a-datasplit-txt-file)."
   ]
  },
  {
   "cell_type": "code",
   "execution_count": 3,
   "metadata": {},
   "outputs": [],
   "source": [
    "import os\n",
    "import json\n",
    "import numpy as np\n",
    "import matplotlib.pylab as plt\n",
    "\n",
    "from tensorflow.compat.v1.keras.models import load_model\n",
    "\n",
    "from imgclas.data_utils import load_image, load_data_splits\n",
    "from imgclas.test_utils import predict\n",
    "from imgclas import paths, plot_utils, utils\n",
    "\n",
    "# User parameters to set\n",
    "TIMESTAMP = '2024-04-13_215919'                       # timestamp of the model\n",
    "MODEL_NAME = 'final_model.h5'                           # model to use to make the prediction\n",
    "\n",
    "# Set the timestamp\n",
    "paths.timestamp = TIMESTAMP\n",
    "\n",
    "# Load training configuration\n",
    "conf_path = os.path.join(paths.get_conf_dir(), 'conf.json')\n",
    "with open(conf_path) as f:\n",
    "    conf = json.load(f)\n",
    "    \n",
    "# Load the model\n",
    "model = load_model(os.path.join(paths.get_checkpoints_dir(), MODEL_NAME), custom_objects=utils.get_custom_objects(), compile=False)"
   ]
  },
  {
   "cell_type": "markdown",
   "metadata": {},
   "source": [
    "## Predicting a datasplit txt file\n",
    "\n",
    "Here we are going to compute the predictions and save them into a `.json` file to retireve them later. "
   ]
  },
  {
   "cell_type": "code",
   "execution_count": 2,
   "metadata": {},
   "outputs": [
    {
     "name": "stdout",
     "output_type": "stream",
     "text": [
      "/srv/image-classification-tf\n"
     ]
    }
   ],
   "source": [
    "cd .."
   ]
  },
  {
   "cell_type": "code",
   "execution_count": 4,
   "metadata": {},
   "outputs": [
    {
     "name": "stdout",
     "output_type": "stream",
     "text": [
      "Loading test data...\n",
      "174/174 [==============================] - 46s 256ms/step\n"
     ]
    }
   ],
   "source": [
    "SPLIT_NAME = 'test'                          # data split to use \n",
    "\n",
    "# Load the data\n",
    "X, y = load_data_splits(splits_dir=paths.get_ts_splits_dir(),\n",
    "                        im_dir=conf['general']['images_directory'],\n",
    "                        split_name=SPLIT_NAME)\n",
    "\n",
    "# Predict\n",
    "pred_result = predict(model, X, conf, filemode='local')\n",
    "\n",
    "# Save the predictions\n",
    "pred_dict = {'filenames': list(X),\n",
    "             'pred_value': pred_result.tolist()}\n",
    "if y is not None:\n",
    "    pred_dict['true_value'] = y.tolist()\n",
    "\n",
    "pred_path = os.path.join(paths.get_predictions_dir(), '{}+{}.json'.format(MODEL_NAME, SPLIT_NAME))\n",
    "with open(pred_path, 'w') as outfile:\n",
    "    json.dump(pred_dict, outfile, sort_keys=True)"
   ]
  }
 ],
 "metadata": {
  "kernelspec": {
   "display_name": "Python 3",
   "language": "python",
   "name": "python3"
  },
  "language_info": {
   "codemirror_mode": {
    "name": "ipython",
    "version": 3
   },
   "file_extension": ".py",
   "mimetype": "text/x-python",
   "name": "python",
   "nbconvert_exporter": "python",
   "pygments_lexer": "ipython3",
   "version": "3.10.9"
  }
 },
 "nbformat": 4,
 "nbformat_minor": 4
}
